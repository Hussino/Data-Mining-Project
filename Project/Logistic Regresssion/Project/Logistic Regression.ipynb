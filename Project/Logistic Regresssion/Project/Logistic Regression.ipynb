{
 "cells": [
  {
   "cell_type": "code",
   "execution_count": 1,
   "metadata": {},
   "outputs": [],
   "source": [
    "import pandas as pd\n",
    "from sklearn.preprocessing import StandardScaler\n",
    "from sklearn.model_selection import train_test_split\n",
    "from sklearn.linear_model import LogisticRegression\n",
    "from sklearn.metrics import accuracy_score, classification_report"
   ]
  },
  {
   "cell_type": "code",
   "execution_count": 2,
   "metadata": {},
   "outputs": [],
   "source": [
    "def create_model(data): \n",
    "  X = data.drop(['diagnosis'], axis=1) # Predictors (Features)\n",
    "  y = data['diagnosis'] # Target (Response) cuz it is a categorical datatype\n",
    "  \n",
    "  # scale the data\n",
    "  scaler = StandardScaler() \n",
    "  X = scaler.fit_transform(X) #  each feature in X will have a mean of 0 as a reference point\n",
    "  \n",
    "  # split the data\n",
    "  X_train, X_test, y_train, y_test = train_test_split(\n",
    "    X, y, test_size=0.2, random_state=42 # split the data 1:5 and use a random seed to split evenly with bias\n",
    "  )\n",
    "  \n",
    "  # train the model\n",
    "  model = LogisticRegression()\n",
    "  model.fit(X_train, y_train)\n",
    "  \n",
    "  # test model\n",
    "  y_pred = model.predict(X_test)\n",
    "  print('Accuracy of our model: ', accuracy_score(y_test, y_pred))\n",
    "  print(\"Classification report: \\n\", classification_report(y_test, y_pred))\n",
    "  \n",
    "  return model, scaler\n"
   ]
  },
  {
   "cell_type": "code",
   "execution_count": 3,
   "metadata": {},
   "outputs": [],
   "source": [
    "def get_clean_data(data):\n",
    "  data = pd.read_csv(data)\n",
    "  \n",
    "  data = data.drop(['Unnamed: 32', 'id'], axis=1)\n",
    "  \n",
    "  data['diagnosis'] = data['diagnosis'].map({ 'M': 1, 'B': 0 })\n",
    "  \n",
    "  return data\n"
   ]
  },
  {
   "cell_type": "code",
   "execution_count": 4,
   "metadata": {},
   "outputs": [
    {
     "name": "stdout",
     "output_type": "stream",
     "text": [
      "Accuracy of our model:  0.9736842105263158\n",
      "Classification report: \n",
      "               precision    recall  f1-score   support\n",
      "\n",
      "           0       0.97      0.99      0.98        71\n",
      "           1       0.98      0.95      0.96        43\n",
      "\n",
      "    accuracy                           0.97       114\n",
      "   macro avg       0.97      0.97      0.97       114\n",
      "weighted avg       0.97      0.97      0.97       114\n",
      "\n"
     ]
    }
   ],
   "source": [
    "data = get_clean_data(\"data.csv\")\n",
    "model, scaler = create_model(data)"
   ]
  }
 ],
 "metadata": {
  "kernelspec": {
   "display_name": "base",
   "language": "python",
   "name": "python3"
  },
  "language_info": {
   "codemirror_mode": {
    "name": "ipython",
    "version": 3
   },
   "file_extension": ".py",
   "mimetype": "text/x-python",
   "name": "python",
   "nbconvert_exporter": "python",
   "pygments_lexer": "ipython3",
   "version": "3.8.5"
  }
 },
 "nbformat": 4,
 "nbformat_minor": 2
}
